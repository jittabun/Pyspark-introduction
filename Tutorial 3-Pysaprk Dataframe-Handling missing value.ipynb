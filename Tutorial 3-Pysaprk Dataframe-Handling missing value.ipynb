{
 "cells": [
  {
   "cell_type": "code",
   "execution_count": 43,
   "id": "2a86f9b4",
   "metadata": {},
   "outputs": [],
   "source": [
    "import pyspark"
   ]
  },
  {
   "cell_type": "code",
   "execution_count": 44,
   "id": "7373b389",
   "metadata": {},
   "outputs": [],
   "source": [
    "from pyspark.sql import SparkSession\n",
    "spark = SparkSession.builder.appName('Practise').getOrCreate()"
   ]
  },
  {
   "cell_type": "code",
   "execution_count": 45,
   "id": "42e5f125",
   "metadata": {},
   "outputs": [],
   "source": [
    "df_pyspark = spark.read.csv('test2.csv',header = True , inferSchema=True)"
   ]
  },
  {
   "cell_type": "code",
   "execution_count": 46,
   "id": "acd2af36",
   "metadata": {},
   "outputs": [
    {
     "name": "stdout",
     "output_type": "stream",
     "text": [
      "+------+----+----------+------+\n",
      "|  Name| age|Experience|Salary|\n",
      "+------+----+----------+------+\n",
      "|dsfFDS|  31|        10| 30000|\n",
      "|   DVS|  30|         8| 25000|\n",
      "| aFDSF|  29|         4| 20000|\n",
      "|   ASD|  24|         3| 20000|\n",
      "|   DSG|  21|         1| 15000|\n",
      "|   SDG|  23|         2| 18000|\n",
      "|  BFSB|null|      null| 40000|\n",
      "|  null|  34|        10| 38000|\n",
      "|  null|  36|      null|  null|\n",
      "+------+----+----------+------+\n",
      "\n"
     ]
    }
   ],
   "source": [
    "df_pyspark.show()"
   ]
  },
  {
   "cell_type": "code",
   "execution_count": 47,
   "id": "2a4a2353",
   "metadata": {},
   "outputs": [
    {
     "name": "stdout",
     "output_type": "stream",
     "text": [
      "+------+----+----------+------+\n",
      "|  Name| age|Experience|Salary|\n",
      "+------+----+----------+------+\n",
      "|dsfFDS|  31|        10| 30000|\n",
      "|   DVS|  30|         8| 25000|\n",
      "| aFDSF|  29|         4| 20000|\n",
      "|   ASD|  24|         3| 20000|\n",
      "|   DSG|  21|         1| 15000|\n",
      "|   SDG|  23|         2| 18000|\n",
      "|  BFSB|null|      null| 40000|\n",
      "|  null|  34|        10| 38000|\n",
      "|  null|  36|      null|  null|\n",
      "+------+----+----------+------+\n",
      "\n"
     ]
    }
   ],
   "source": [
    "##drop the columns\n",
    "df_pyspark.show()"
   ]
  },
  {
   "cell_type": "code",
   "execution_count": 48,
   "id": "786742e2",
   "metadata": {},
   "outputs": [
    {
     "name": "stdout",
     "output_type": "stream",
     "text": [
      "+------+---+----------+------+\n",
      "|  Name|age|Experience|Salary|\n",
      "+------+---+----------+------+\n",
      "|dsfFDS| 31|        10| 30000|\n",
      "|   DVS| 30|         8| 25000|\n",
      "| aFDSF| 29|         4| 20000|\n",
      "|   ASD| 24|         3| 20000|\n",
      "|   DSG| 21|         1| 15000|\n",
      "|   SDG| 23|         2| 18000|\n",
      "+------+---+----------+------+\n",
      "\n"
     ]
    }
   ],
   "source": [
    "df_pyspark.na.drop().show()"
   ]
  },
  {
   "cell_type": "code",
   "execution_count": 49,
   "id": "497ac87d",
   "metadata": {},
   "outputs": [
    {
     "name": "stdout",
     "output_type": "stream",
     "text": [
      "+------+---+----------+------+\n",
      "|  Name|age|Experience|Salary|\n",
      "+------+---+----------+------+\n",
      "|dsfFDS| 31|        10| 30000|\n",
      "|   DVS| 30|         8| 25000|\n",
      "| aFDSF| 29|         4| 20000|\n",
      "|   ASD| 24|         3| 20000|\n",
      "|   DSG| 21|         1| 15000|\n",
      "|   SDG| 23|         2| 18000|\n",
      "+------+---+----------+------+\n",
      "\n"
     ]
    }
   ],
   "source": [
    "### any == how\n",
    "df_pyspark.na.drop(how ='any').show()"
   ]
  },
  {
   "cell_type": "code",
   "execution_count": 50,
   "id": "49d36f93",
   "metadata": {},
   "outputs": [
    {
     "name": "stdout",
     "output_type": "stream",
     "text": [
      "+------+----+----------+------+\n",
      "|  Name| age|Experience|Salary|\n",
      "+------+----+----------+------+\n",
      "|dsfFDS|  31|        10| 30000|\n",
      "|   DVS|  30|         8| 25000|\n",
      "| aFDSF|  29|         4| 20000|\n",
      "|   ASD|  24|         3| 20000|\n",
      "|   DSG|  21|         1| 15000|\n",
      "|   SDG|  23|         2| 18000|\n",
      "|  BFSB|null|      null| 40000|\n",
      "|  null|  34|        10| 38000|\n",
      "+------+----+----------+------+\n",
      "\n"
     ]
    }
   ],
   "source": [
    "## threshold\n",
    "df_pyspark.na.drop(how = \"any\" , thresh=2).show()"
   ]
  },
  {
   "cell_type": "code",
   "execution_count": 51,
   "id": "d07bcba4",
   "metadata": {},
   "outputs": [
    {
     "name": "stdout",
     "output_type": "stream",
     "text": [
      "+------+---+----------+------+\n",
      "|  Name|age|Experience|Salary|\n",
      "+------+---+----------+------+\n",
      "|dsfFDS| 31|        10| 30000|\n",
      "|   DVS| 30|         8| 25000|\n",
      "| aFDSF| 29|         4| 20000|\n",
      "|   ASD| 24|         3| 20000|\n",
      "|   DSG| 21|         1| 15000|\n",
      "|   SDG| 23|         2| 18000|\n",
      "|  null| 34|        10| 38000|\n",
      "+------+---+----------+------+\n",
      "\n"
     ]
    }
   ],
   "source": [
    "##Subset\n",
    "df_pyspark.na.drop(how = \"any\" , subset = ['Experience']).show()"
   ]
  },
  {
   "cell_type": "code",
   "execution_count": 52,
   "id": "ad3ec2ab",
   "metadata": {},
   "outputs": [
    {
     "name": "stdout",
     "output_type": "stream",
     "text": [
      "+--------------+----+----------+------+\n",
      "|          Name| age|Experience|Salary|\n",
      "+--------------+----+----------+------+\n",
      "|        dsfFDS|  31|        10| 30000|\n",
      "|           DVS|  30|         8| 25000|\n",
      "|         aFDSF|  29|         4| 20000|\n",
      "|           ASD|  24|         3| 20000|\n",
      "|           DSG|  21|         1| 15000|\n",
      "|           SDG|  23|         2| 18000|\n",
      "|          BFSB|null|      null| 40000|\n",
      "|Missing Values|  34|        10| 38000|\n",
      "|Missing Values|  36|      null|  null|\n",
      "+--------------+----+----------+------+\n",
      "\n"
     ]
    }
   ],
   "source": [
    "### Filling the Missing Value\n",
    "df_pyspark.na.fill('Missing Values',['Experience','Name']).show()"
   ]
  },
  {
   "cell_type": "code",
   "execution_count": 53,
   "id": "4abb2a6f",
   "metadata": {},
   "outputs": [],
   "source": [
    "from pyspark.ml.feature import Imputer\n",
    "\n",
    "imputer = Imputer(\n",
    "    inputCols=['age','Experience','Salary'],\n",
    "    outputCols = [\"{}_imputed\".format(c) for c in ['age','Experience','Salary']]\n",
    ").setStrategy(\"mean\") # change to media mode"
   ]
  },
  {
   "cell_type": "code",
   "execution_count": 54,
   "id": "03422b8c",
   "metadata": {},
   "outputs": [
    {
     "name": "stdout",
     "output_type": "stream",
     "text": [
      "+------+----+----------+------+-----------+------------------+--------------+\n",
      "|  Name| age|Experience|Salary|age_imputed|Experience_imputed|Salary_imputed|\n",
      "+------+----+----------+------+-----------+------------------+--------------+\n",
      "|dsfFDS|  31|        10| 30000|         31|                10|         30000|\n",
      "|   DVS|  30|         8| 25000|         30|                 8|         25000|\n",
      "| aFDSF|  29|         4| 20000|         29|                 4|         20000|\n",
      "|   ASD|  24|         3| 20000|         24|                 3|         20000|\n",
      "|   DSG|  21|         1| 15000|         21|                 1|         15000|\n",
      "|   SDG|  23|         2| 18000|         23|                 2|         18000|\n",
      "|  BFSB|null|      null| 40000|         28|                 5|         40000|\n",
      "|  null|  34|        10| 38000|         34|                10|         38000|\n",
      "|  null|  36|      null|  null|         36|                 5|         25750|\n",
      "+------+----+----------+------+-----------+------------------+--------------+\n",
      "\n"
     ]
    }
   ],
   "source": [
    "imputer.fit(df_pyspark).transform(df_pyspark).show()"
   ]
  },
  {
   "cell_type": "code",
   "execution_count": null,
   "id": "4b7e95cb",
   "metadata": {},
   "outputs": [],
   "source": []
  }
 ],
 "metadata": {
  "kernelspec": {
   "display_name": "Python 3",
   "language": "python",
   "name": "python3"
  },
  "language_info": {
   "codemirror_mode": {
    "name": "ipython",
    "version": 3
   },
   "file_extension": ".py",
   "mimetype": "text/x-python",
   "name": "python",
   "nbconvert_exporter": "python",
   "pygments_lexer": "ipython3",
   "version": "3.8.8"
  }
 },
 "nbformat": 4,
 "nbformat_minor": 5
}
